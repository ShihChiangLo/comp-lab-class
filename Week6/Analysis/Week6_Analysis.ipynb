{
 "cells": [
  {
   "cell_type": "code",
   "execution_count": 1,
   "metadata": {},
   "outputs": [],
   "source": [
    "import numpy as np\n",
    "import matplotlib.pyplot as plt\n",
    "import pandas as pd\n",
    "import mdtraj as md\n",
    "import matplotlib\n",
    "from matplotlib.animation import FFMpegWriter, PillowWriter"
   ]
  },
  {
   "cell_type": "markdown",
   "metadata": {},
   "source": [
    "# Masterclass Exercise 1 unbias"
   ]
  },
  {
   "cell_type": "code",
   "execution_count": null,
   "metadata": {},
   "outputs": [],
   "source": [
    "#data from Colvar\n",
    "file = pd.read_csv('./COLVAR_unbias',skiprows=5,sep='\\s+',header=None)\n",
    "file.columns = ['Time','Phi','Psi']\n",
    "#data from xtc\n",
    "traj = md.load('./traj_comp_unbias.xtc',top='confout_unbias.gro')\n",
    "phi_tem = md.compute_phi(traj,periodic=True,opt=True)\n",
    "psi_tem = md.compute_psi(traj,periodic=True,opt=True)\n",
    "\n",
    "phi = []\n",
    "psi = []\n",
    "\n",
    "for i in phi_tem[1]:\n",
    "    phi.append(i[0])\n",
    "    \n",
    "for i in psi_tem[1]:\n",
    "    psi.append(i[0])"
   ]
  },
  {
   "cell_type": "code",
   "execution_count": null,
   "metadata": {},
   "outputs": [],
   "source": [
    "plt.plot(traj.time[0:500], phi[0:500],label='from xtc')\n",
    "plt.plot(file.Time[0:500], file.Phi[0:500], label='from colvar')\n",
    "plt.xlabel('Time (ps)')\n",
    "plt.ylabel('Phi angle')\n",
    "plt.title('Phi trajectories of xtc and COLVAR files')\n",
    "plt.legend()\n",
    "plt.tight_layout()\n",
    "#plt.savefig('unbias_PhiAngle_FromXtcAndColvar.pdf',dpi=300)\n",
    "plt.show()"
   ]
  },
  {
   "cell_type": "code",
   "execution_count": null,
   "metadata": {},
   "outputs": [],
   "source": [
    "plt.plot(traj.time[0:500], psi[0:500],label='from xtc')\n",
    "plt.plot(file.Time[0:500], file.Psi[0:500], label='from colvar')\n",
    "plt.xlabel('Time (ps)')\n",
    "plt.ylabel('Psi angle')\n",
    "plt.title('Psi trajectories of xtc and COLVAR files')\n",
    "plt.legend()\n",
    "plt.tight_layout()\n",
    "#plt.savefig('unbias_PsiAngle_FromXtcAndColvar.pdf',dpi=300)\n",
    "plt.show()"
   ]
  },
  {
   "cell_type": "code",
   "execution_count": null,
   "metadata": {},
   "outputs": [],
   "source": [
    "#scatter plot of unbias configuration A\n",
    "plt.scatter(file.Phi, file.Psi)\n",
    "plt.xlabel(\"Phi\")\n",
    "plt.ylabel(\"Psi\")\n",
    "plt.title(\"configuration A\")\n",
    "plt.tight_layout()\n",
    "#plt.savefig('PhiAndPsiScatter.pdf',dpi=300)\n",
    "plt.show()"
   ]
  },
  {
   "cell_type": "code",
   "execution_count": null,
   "metadata": {},
   "outputs": [],
   "source": [
    "#standard deviation of Phi and Psi of unbias configuration A\n",
    "print('std for phi '+str(np.std(file.Phi)))\n",
    "print('std for psi '+str(np.std(file.Psi)))"
   ]
  },
  {
   "cell_type": "markdown",
   "metadata": {},
   "source": [
    "# Lugano tutorial exercise 1 metadynamic of configuration A"
   ]
  },
  {
   "cell_type": "code",
   "execution_count": null,
   "metadata": {},
   "outputs": [],
   "source": [
    "#metadynamic configuration A\n",
    "file = pd.read_csv('./COLVAR_meta_pace500_height1.2_bf10_sigma0.55_10ns',skiprows=3,sep='\\s+',header=None)\n",
    "file.columns = ['Time','Phi','bias','work']"
   ]
  },
  {
   "cell_type": "code",
   "execution_count": null,
   "metadata": {},
   "outputs": [],
   "source": [
    "#evolution of dynamic CV of configuration A\n",
    "plt.scatter(file.Time, file.Phi, label='Phi',s=0.1)\n",
    "plt.xlabel('Time (ps)')\n",
    "plt.ylabel('Angle')\n",
    "plt.title('Phi angle of configuration A')\n",
    "plt.tight_layout()\n",
    "#plt.savefig('meta_PhiAngle.pdf',dpi=300)\n",
    "plt.show()"
   ]
  },
  {
   "cell_type": "code",
   "execution_count": null,
   "metadata": {},
   "outputs": [],
   "source": [
    "#evolution of gaussian height of configuration A\n",
    "file = pd.read_csv('./HILLS_meta_pace500_height1.2_bf10_sigma0.55_10ns',skiprows=5,sep='\\s+',header=None)\n",
    "file.columns = ['time','phi','sigma_phi','height','biasf']\n",
    "#plotting\n",
    "plt.scatter(file.time, file.height,s=0.1)\n",
    "plt.xlabel('Time (ps)')\n",
    "plt.ylabel('Gaussian Hill Height (KJ/mol)')\n",
    "plt.title('Time evolution of the Gaussian height of configuration A')\n",
    "plt.tight_layout()\n",
    "#plt.savefig('meta_GaussianHeightEvolution.pdf',dpi=300)\n",
    "plt.show()"
   ]
  },
  {
   "cell_type": "markdown",
   "metadata": {},
   "source": [
    "# Lugano exercise 2 free energy"
   ]
  },
  {
   "cell_type": "code",
   "execution_count": null,
   "metadata": {},
   "outputs": [],
   "source": [
    "# Free energy from fes\n",
    "file = pd.read_csv('./fes_meta_pace500_height1.2_bf10_sigma0.55_10ns.dat',skiprows=5,sep='\\s+',header=None)\n",
    "file.columns = ['phi','energy','der_phi']\n",
    "\n",
    "plt.plot(file.phi, file.energy)\n",
    "plt.title('Free energy of metadynamics of configuration A from fes.dat')\n",
    "plt.xlabel('Phi')\n",
    "plt.ylabel('Free energy (KJ/mol)')\n",
    "plt.tight_layout()\n",
    "#plt.savefig('meta_FreeEnergy_FromFesFile.pdf',dpi=300)\n",
    "plt.show()"
   ]
  },
  {
   "cell_type": "code",
   "execution_count": null,
   "metadata": {},
   "outputs": [],
   "source": [
    "# Free energy from grid.dat\n",
    "file = pd.read_csv('./meta_pace500_height1.2_bf10_sigma0.55_10ns.grid.dat',skiprows=5,sep='\\s+',header=None)\n",
    "file.columns = ['phi','energy','der_phi']\n",
    "\n",
    "plt.plot(file.phi, -file.energy)\n",
    "plt.title('Free energy of metadynamics of configuration A from grid.dat')\n",
    "plt.xlabel('Phi')\n",
    "plt.ylabel('Free energy (KJ/mol)')\n",
    "plt.tight_layout()\n",
    "#plt.savefig('meta_FreeEnergy_FromGridFile.pdf',dpi=300)\n",
    "plt.show()"
   ]
  },
  {
   "cell_type": "code",
   "execution_count": null,
   "metadata": {},
   "outputs": [],
   "source": [
    "# Free energy from fes\n",
    "number=[1,3,10,20,50,100]\n",
    "for i in number:\n",
    "    file_name = \"fes_\"+str(i)+\"_meta.dat\"\n",
    "    file = pd.read_csv(file_name,skiprows=5,sep='\\s+',header=None)\n",
    "    file.columns = ['phi','energy','der_phi']\n",
    "    #plotting\n",
    "    plt.plot(file.phi, file.energy, label=str(i/10)+'ns')\n",
    "plt.title('Free energy of metadynamics of configuration A')\n",
    "plt.xlabel('Phi')\n",
    "plt.ylabel('Free energy (KJ/mol)')\n",
    "plt.legend()\n",
    "plt.tight_layout()\n",
    "#plt.savefig('meta_FreeEnergyEvolution.pdf',dpi=300)\n",
    "plt.show()"
   ]
  },
  {
   "cell_type": "markdown",
   "metadata": {},
   "source": [
    "# 2d metadynamics of configuration A"
   ]
  },
  {
   "cell_type": "code",
   "execution_count": null,
   "metadata": {},
   "outputs": [],
   "source": [
    "#2d metadynamic configuration A\n",
    "file = pd.read_csv('./COLVAR_2dmeta_pace500_height1.2_bf10_sigma0.55and1.02_10ns',skiprows=5,sep='\\s+',header=None)\n",
    "file.columns = ['Time','Phi','Psi']"
   ]
  },
  {
   "cell_type": "code",
   "execution_count": null,
   "metadata": {},
   "outputs": [],
   "source": [
    "#evolution of 2d metadynamic CV of configuration A\n",
    "plt.scatter(file.Time, file.Phi, label='Phi',s=0.1)\n",
    "plt.xlabel('Time (ps)')\n",
    "plt.ylabel('Angle')\n",
    "plt.title('Phi angle of configuration A')\n",
    "plt.tight_layout()\n",
    "#plt.savefig('2dmeta_PhiAngle.pdf',dpi=300)\n",
    "plt.show()\n",
    "plt.scatter(file.Time, file.Psi, label='Psi',s=0.1)\n",
    "plt.xlabel('Time (ps)')\n",
    "plt.ylabel('Angle')\n",
    "plt.title('Psi angle of configuration A')\n",
    "plt.tight_layout()\n",
    "#plt.savefig('2dmeta_PsiAngle.pdf',dpi=300)\n",
    "plt.show()"
   ]
  },
  {
   "cell_type": "code",
   "execution_count": null,
   "metadata": {},
   "outputs": [],
   "source": [
    "#evolution of 2d metadynamics of gaussian height of configuration A\n",
    "file = pd.read_csv('./HILLS_2dmeta_pace500_height1.2_bf10_sigma0.55and1.02_10ns',skiprows=7,sep='\\s+',header=None)\n",
    "file.columns = ['time','phi','psi','sigma_phi','sigma_psi','height','biasf']\n",
    "#plotting\n",
    "plt.scatter(file.time, file.height,s=0.1)\n",
    "plt.xlabel('Time (ps)')\n",
    "plt.ylabel('Gaussian Hill Height (KJ/mol)')\n",
    "plt.title('Time evolution of the Gaussian height of 2d metadynamics')\n",
    "plt.tight_layout()\n",
    "#plt.savefig('2dmeta_GaussianHillHeightEvolution.pdf',dpi=300)\n",
    "plt.show()"
   ]
  },
  {
   "cell_type": "markdown",
   "metadata": {},
   "source": [
    "# free energy of 2d metadynamics of configurationA"
   ]
  },
  {
   "cell_type": "code",
   "execution_count": null,
   "metadata": {},
   "outputs": [],
   "source": [
    "# Free energy surface from fes\n",
    "file = pd.read_csv('./fes_2dmeta_pace500_height1.2_bf10_sigma0.55and1.02_10ns.dat',skiprows=9,sep='\\s+',header=None)\n",
    "file.columns = ['phi','psi','energy','der_phi','der_psi']\n",
    "\n",
    "fig = plt.figure(figsize =(16, 9))\n",
    "ax = plt.axes(projection='3d')\n",
    "my_cmap = plt.get_cmap('hot')\n",
    "trisurf = ax.plot_trisurf(file.phi, file.psi, file.energy,cmap=my_cmap)\n",
    "plt.title('Free energy surface of metadynamics of configuration A from fes.dat')\n",
    "plt.xlabel('Phi')\n",
    "plt.ylabel('Psi')\n",
    "ax.set_zlabel('Free energy (KJ/mol)')\n",
    "fig.colorbar(trisurf, ax = ax, shrink = 0.5, aspect = 5)\n",
    "plt.tight_layout()\n",
    "#plt.savefig('2dmeta_FreeEnergySurface_FromFesFile.pdf',dpi=300)\n",
    "plt.show()"
   ]
  },
  {
   "cell_type": "code",
   "execution_count": null,
   "metadata": {},
   "outputs": [],
   "source": [
    "# Free energy surface from grid.dat\n",
    "file = pd.read_csv('./2dmeta_pace500_height1.2_bf10_sigma0.55and1.02_10ns.grid.dat',skiprows=9,sep='\\s+',header=None)\n",
    "file.columns = ['phi','psi','energy','der_phi','der_psi']\n",
    "\n",
    "fig = plt.figure(figsize =(16, 9))\n",
    "ax = plt.axes(projection='3d')\n",
    "my_cmap = plt.get_cmap('hot')\n",
    "trisurf = ax.plot_trisurf(file.phi, file.psi, -file.energy,cmap=my_cmap)\n",
    "plt.title('Free energy surface of metadynamics of configuration A from grid.dat')\n",
    "plt.xlabel('Phi')\n",
    "plt.ylabel('Psi')\n",
    "ax.set_zlabel('Free energy (KJ/mol)')\n",
    "fig.colorbar(trisurf, ax = ax, shrink = 0.5, aspect = 5)\n",
    "plt.tight_layout()\n",
    "#plt.savefig('2dmeta_FreeEnergySurface_fromGridDatFile.pdf',dpi=300)\n",
    "plt.show()"
   ]
  },
  {
   "cell_type": "code",
   "execution_count": null,
   "metadata": {},
   "outputs": [],
   "source": [
    "#Free Energy Surface Evolution animation\n",
    "number = [0,2,4,6,8,10,20,30,40,50,60,70,80,90,100]\n",
    "metadata = dict(title='Movie', artist='codinglikemad')\n",
    "writer = FFMpegWriter(fps=5, metadata=metadata)\n",
    "#plotting\n",
    "fig, ax = plt.subplots(subplot_kw=dict(projection='3d'),figsize =(16, 9))\n",
    "fig.colorbar(trisurf, ax = ax, shrink = 0.5, aspect = 5)\n",
    "with writer.saving(fig, \"meta_FreeEnergySurface_animation.gif\", 100):\n",
    "    for i in number:\n",
    "        file = pd.read_csv('./fes_'+str(i)+'_2dmeta.dat',skiprows=9,sep='\\s+',header=None)\n",
    "        file.columns = ['phi','psi','energy','der_phi','der_psi']\n",
    "        #fig = plt.figure(figsize =(16, 9))\n",
    "        #ax = plt.axes(projection='3d')\n",
    "        my_cmap = plt.get_cmap('hot')\n",
    "        trisurf = ax.plot_trisurf(file.phi, file.psi, file.energy,cmap=my_cmap)\n",
    "        plt.title('Free energy surface of metadynamics of configuration A from fes.dat')\n",
    "        plt.xlabel('Phi')\n",
    "        plt.ylabel('Psi')\n",
    "        ax.set_zlabel('Free energy (KJ/mol)')\n",
    "        ax.set_zlim(0,80)\n",
    "        #fig.colorbar(trisurf, ax = ax, shrink = 0.5, aspect = 5)\n",
    "        \n",
    "        writer.grab_frame()\n",
    "        plt.cla()"
   ]
  }
 ],
 "metadata": {
  "kernelspec": {
   "display_name": "lab_env",
   "language": "python",
   "name": "lab_env"
  },
  "language_info": {
   "codemirror_mode": {
    "name": "ipython",
    "version": 3
   },
   "file_extension": ".py",
   "mimetype": "text/x-python",
   "name": "python",
   "nbconvert_exporter": "python",
   "pygments_lexer": "ipython3",
   "version": "3.9.12"
  }
 },
 "nbformat": 4,
 "nbformat_minor": 4
}
